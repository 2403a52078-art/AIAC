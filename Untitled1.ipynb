{
  "nbformat": 4,
  "nbformat_minor": 0,
  "metadata": {
    "colab": {
      "provenance": [],
      "authorship_tag": "ABX9TyNjaFz8E3YHjLH49mOEsB7L",
      "include_colab_link": true
    },
    "kernelspec": {
      "name": "python3",
      "display_name": "Python 3"
    },
    "language_info": {
      "name": "python"
    }
  },
  "cells": [
    {
      "cell_type": "markdown",
      "metadata": {
        "id": "view-in-github",
        "colab_type": "text"
      },
      "source": [
        "<a href=\"https://colab.research.google.com/github/2403a52078-art/AIAC/blob/main/Untitled1.ipynb\" target=\"_parent\"><img src=\"https://colab.research.google.com/assets/colab-badge.svg\" alt=\"Open In Colab\"/></a>"
      ]
    },
    {
      "cell_type": "code",
      "execution_count": 5,
      "metadata": {
        "colab": {
          "base_uri": "https://localhost:8080/"
        },
        "id": "x_5yUdzOr7mO",
        "outputId": "c98daf08-e1de-4701-ab06-eaaa0c3a76d7"
      },
      "outputs": [
        {
          "output_type": "stream",
          "name": "stdout",
          "text": [
            "True\n",
            "False\n"
          ]
        }
      ],
      "source": []
    },
    {
      "cell_type": "code",
      "source": [],
      "metadata": {
        "colab": {
          "base_uri": "https://localhost:8080/"
        },
        "id": "z3bHbM7py-MF",
        "outputId": "441ee986-1fe0-4371-ffbc-b60a49b04bf8"
      },
      "execution_count": 6,
      "outputs": [
        {
          "output_type": "stream",
          "name": "stdout",
          "text": [
            "True\n",
            "False\n"
          ]
        }
      ]
    },
    {
      "cell_type": "markdown",
      "source": [
        "Task0,Build python function to check the given number is prime number or not\n"
      ],
      "metadata": {
        "id": "oBDlhmfNwPAo"
      }
    },
    {
      "cell_type": "code",
      "source": [],
      "metadata": {
        "id": "O_HDc2RUyt2F"
      },
      "execution_count": null,
      "outputs": []
    },
    {
      "cell_type": "markdown",
      "source": [
        "Task0,Build python function to check the given number is prime number or not"
      ],
      "metadata": {
        "id": "9YNQdy1QsU7Q"
      }
    },
    {
      "cell_type": "markdown",
      "source": [
        "Here's a breakdown of how it works:\n",
        "\n",
        "def is_prime(num):: This line defines the function is_prime that takes one argument, num.\n",
        "if num <= 1:: This checks if the number is less than or equal to 1. Prime numbers are greater than 1, so if the number is 1 or less, the function immediately returns False.\n",
        "`for i in range(2, int(num0.5) + 1):**: This loop iterates through numbers starting from 2 up to the square root of the input number (num`). We only need to check for divisors up to the square root because if a number has a divisor larger than its square root, it must also have a divisor smaller than its square root.\n",
        "if num % i == 0:: Inside the loop, this line checks if the input number (num) is perfectly divisible by the current number i. If it is, it means i is a divisor of num, and since we already handled numbers less than or equal to 1, this means num is not prime. In this case, the function returns False.\n",
        "return True: If the loop finishes without finding any divisors (meaning the if num % i == 0: condition was never met), it means the number num is not divisible by any number from 2 up to its square root. Therefore, the number is prime, and the function returns True."
      ],
      "metadata": {
        "id": "r8Ttdvh1vDgA"
      }
    }
  ]
}