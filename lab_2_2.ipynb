{
  "nbformat": 4,
  "nbformat_minor": 0,
  "metadata": {
    "colab": {
      "provenance": [],
      "authorship_tag": "ABX9TyMX0//IY00jgT6iF94ZIwO6",
      "include_colab_link": true
    },
    "kernelspec": {
      "name": "python3",
      "display_name": "Python 3"
    },
    "language_info": {
      "name": "python"
    }
  },
  "cells": [
    {
      "cell_type": "markdown",
      "metadata": {
        "id": "view-in-github",
        "colab_type": "text"
      },
      "source": [
        "<a href=\"https://colab.research.google.com/github/2403a52078-art/AIAC/blob/main/lab_2_2.ipynb\" target=\"_parent\"><img src=\"https://colab.research.google.com/assets/colab-badge.svg\" alt=\"Open In Colab\"/></a>"
      ]
    },
    {
      "cell_type": "code",
      "execution_count": null,
      "metadata": {
        "id": "NpbGOyycqSvt"
      },
      "outputs": [],
      "source": []
    },
    {
      "cell_type": "markdown",
      "source": [
        "task1:Use Gemini in Colab to write a function that filters out all negative numbers from a\n",
        "given list."
      ],
      "metadata": {
        "id": "n88A9_KiqTjX"
      }
    },
    {
      "cell_type": "markdown",
      "metadata": {
        "id": "83a2fde2"
      },
      "source": [
        "Now you can copy and paste the generated function code into a new code cell and test it."
      ]
    },
    {
      "cell_type": "code",
      "metadata": {
        "colab": {
          "base_uri": "https://localhost:8080/"
        },
        "id": "da9df507",
        "outputId": "63fe7791-6c25-4d2b-987e-8be18e37b8ba"
      },
      "source": [
        "def filter_negative_numbers(input_list):\n",
        "  \"\"\"\n",
        "  Filters out all negative numbers from a given list.\n",
        "\n",
        "  Args:\n",
        "    input_list: A list of numbers.\n",
        "\n",
        "  Returns:\n",
        "    A new list containing only the non-negative numbers from the input list.\n",
        "  \"\"\"\n",
        "  return [number for number in input_list if number >= 0]\n",
        "\n",
        "# Example usage:\n",
        "my_list = [1, -2, 3, -4, 5, 0, -6]\n",
        "filtered_list = filter_negative_numbers(my_list)\n",
        "print(filtered_list)"
      ],
      "execution_count": 2,
      "outputs": [
        {
          "output_type": "stream",
          "name": "stdout",
          "text": [
            "[1, 3, 5, 0]\n"
          ]
        }
      ]
    },
    {
      "cell_type": "markdown",
      "source": [
        "The code defines a function called filter_negative_numbers that takes a list of numbers as input. It uses a list comprehension [number for number in input_list if number >= 0] to iterate through the input list and create a new list containing only the numbers that are greater than or equal to 0 (i.e., non-negative numbers). Finally, it returns this new list. The example usage demonstrates how to call the function and print the resulting filtered list."
      ],
      "metadata": {
        "id": "wN_4joS_q26Y"
      }
    },
    {
      "cell_type": "markdown",
      "source": [
        "task2:Ask Gemini to generate code that reads a text file and counts the frequency of each\n",
        "word"
      ],
      "metadata": {
        "id": "jxhoD5oMq5ZR"
      }
    },
    {
      "cell_type": "markdown",
      "metadata": {
        "id": "56a2ce46"
      },
      "source": [
        "You can copy and paste the generated code into a new cell and test it. Remember to replace `\"your_text_file.txt\"` with the actual path to your text file."
      ]
    },
    {
      "cell_type": "code",
      "metadata": {
        "colab": {
          "base_uri": "https://localhost:8080/"
        },
        "id": "2ae02fc3",
        "outputId": "c14daf1f-b2fb-4897-c54d-8d26724af6d4"
      },
      "source": [
        "import re\n",
        "from collections import Counter\n",
        "\n",
        "def count_word_frequency(filepath):\n",
        "  \"\"\"\n",
        "  Reads a text file and counts the frequency of each word.\n",
        "\n",
        "  Args:\n",
        "    filepath: The path to the text file.\n",
        "\n",
        "  Returns:\n",
        "    A dictionary where keys are words and values are their frequencies.\n",
        "  \"\"\"\n",
        "  try:\n",
        "    with open(filepath, 'r', encoding='utf-8') as file:\n",
        "      text = file.read().lower()\n",
        "      # Use regex to find words (alphanumeric sequences)\n",
        "      words = re.findall(r'\\b\\w+\\b', text)\n",
        "      word_counts = Counter(words)\n",
        "      return word_counts\n",
        "  except FileNotFoundError:\n",
        "    print(f\"Error: File not found at {filepath}\")\n",
        "    return None\n",
        "  except Exception as e:\n",
        "    print(f\"An error occurred: {e}\")\n",
        "    return None\n",
        "\n",
        "# Example usage:\n",
        "# Create a dummy text file for testing\n",
        "with open(\"sample_text_file.txt\", \"w\") as f:\n",
        "    f.write(\"This is a sample text file. This file is for testing the word frequency counter.\")\n",
        "\n",
        "file_path = \"sample_text_file.txt\"\n",
        "word_frequencies = count_word_frequency(file_path)\n",
        "\n",
        "if word_frequencies:\n",
        "  # Print the word frequencies (you can adjust how many to print)\n",
        "  for word, count in word_frequencies.most_common(10): # Print top 10 most common words\n",
        "    print(f\"{word}: {count}\")"
      ],
      "execution_count": 4,
      "outputs": [
        {
          "output_type": "stream",
          "name": "stdout",
          "text": [
            "this: 2\n",
            "is: 2\n",
            "file: 2\n",
            "a: 1\n",
            "sample: 1\n",
            "text: 1\n",
            "for: 1\n",
            "testing: 1\n",
            "the: 1\n",
            "word: 1\n"
          ]
        }
      ]
    },
    {
      "cell_type": "markdown",
      "source": [
        "This code defines a function count_word_frequency that takes a file path as input.\n",
        "\n",
        "It opens the specified text file, reads its content, and converts it to lowercase.\n",
        "It then uses a regular expression \\b\\w+\\b to find all words (sequences of alphanumeric characters) in the text.\n",
        "It uses the Counter object from the collections module to count the frequency of each word.\n",
        "The function returns a dictionary where keys are words and values are their frequencies.\n",
        "The example usage section first creates a dummy text file named \"sample_text_file.txt\" for testing.\n",
        "It then calls the count_word_frequency function with the path to the dummy file.\n",
        "Finally, if the function returns word frequencies, it prints the top 10 most common words and their counts.\n"
      ],
      "metadata": {
        "id": "N90yAcjbrWKV"
      }
    },
    {
      "cell_type": "markdown",
      "source": [
        "task3: Use Cursor AI to generate a Python class called Book with attributes title, author, and\n",
        "a method summary() that prints the details."
      ],
      "metadata": {
        "id": "32XeGiJhrf2O"
      }
    },
    {
      "cell_type": "code",
      "metadata": {
        "colab": {
          "base_uri": "https://localhost:8080/"
        },
        "id": "8a55472f",
        "outputId": "3a3b196a-52be-4894-ae8e-b18e51465ec7"
      },
      "source": [
        "class Book:\n",
        "  \"\"\"\n",
        "  Represents a book with a title and author.\n",
        "  \"\"\"\n",
        "  def __init__(self, title, author):\n",
        "    \"\"\"\n",
        "    Initializes a new Book instance.\n",
        "\n",
        "    Args:\n",
        "      title: The title of the book.\n",
        "      author: The author of the book.\n",
        "    \"\"\"\n",
        "    self.title = title\n",
        "    self.author = author\n",
        "\n",
        "  def summary(self):\n",
        "    \"\"\"\n",
        "    Prints the details of the book (title and author).\n",
        "    \"\"\"\n",
        "    print(f\"Title: {self.title}\")\n",
        "    print(f\"Author: {self.author}\")\n",
        "\n",
        "# Example usage:\n",
        "my_book = Book(\"The Hitchhiker's Guide to the Galaxy\", \"Douglas Adams\")\n",
        "my_book.summary()"
      ],
      "execution_count": 5,
      "outputs": [
        {
          "output_type": "stream",
          "name": "stdout",
          "text": [
            "Title: The Hitchhiker's Guide to the Galaxy\n",
            "Author: Douglas Adams\n"
          ]
        }
      ]
    },
    {
      "cell_type": "markdown",
      "source": [
        "This code defines a Python class named Book.\n",
        "\n",
        "The __init__ method is the constructor. It's called when you create a new Book object. It takes title and author as arguments and stores them as attributes of the object using self.title = title and self.author = author.\n",
        "The summary() method is defined within the Book class. When called on a Book object, it prints the title and author of that specific book using an f-string for formatted output.\n",
        "The example usage at the end creates an instance of the Book class called my_book with a specific title and author, and then calls the summary() method on my_book to print its details.\n"
      ],
      "metadata": {
        "id": "aQF7FKZlrwWX"
      }
    },
    {
      "cell_type": "markdown",
      "source": [
        "task4:Ask Gemini to write a program that checks whether a number is an Armstrong\n",
        "number, and then modify it using Cursor AI to improve performance or structure."
      ],
      "metadata": {
        "id": "kOpqS1rmrySC"
      }
    },
    {
      "cell_type": "markdown",
      "metadata": {
        "id": "931c79ed"
      },
      "source": [
        "Here is the code generated by Gemini. You can copy and paste it into a new code cell and test it."
      ]
    },
    {
      "cell_type": "code",
      "metadata": {
        "colab": {
          "base_uri": "https://localhost:8080/"
        },
        "id": "6ae00a91",
        "outputId": "c776085c-4d19-44b0-ab32-758e2f56dc17"
      },
      "source": [
        "def is_armstrong_number(number):\n",
        "  \"\"\"\n",
        "  Checks if a number is an Armstrong number.\n",
        "\n",
        "  An Armstrong number (or narcissistic number) is a number that is the sum\n",
        "  of its own digits each raised to the power of the number of digits.\n",
        "  For example, 153 is an Armstrong number because 1^3 + 5^3 + 3^3 = 1 + 125 + 27 = 153.\n",
        "  \"\"\"\n",
        "  # Convert the number to a string to easily access digits\n",
        "  number_str = str(number)\n",
        "  num_digits = len(number_str)\n",
        "  sum_of_powers = 0\n",
        "\n",
        "  # Calculate the sum of digits raised to the power of the number of digits\n",
        "  for digit in number_str:\n",
        "    sum_of_powers += int(digit) ** num_digits\n",
        "\n",
        "  # Check if the sum of powers equals the original number\n",
        "  return sum_of_powers == number\n",
        "\n",
        "# Example usage:\n",
        "num_to_check = 153\n",
        "if is_armstrong_number(num_to_check):\n",
        "  print(f\"{num_to_check} is an Armstrong number.\")\n",
        "else:\n",
        "  print(f\"{num_to_check} is not an Armstrong number.\")\n",
        "\n",
        "num_to_check = 123\n",
        "if is_armstrong_number(num_to_check):\n",
        "  print(f\"{num_to_check} is an Armstrong number.\")\n",
        "else:\n",
        "  print(f\"{num_to_check} is not an Armstrong number.\")"
      ],
      "execution_count": 13,
      "outputs": [
        {
          "output_type": "stream",
          "name": "stdout",
          "text": [
            "153 is an Armstrong number.\n",
            "123 is not an Armstrong number.\n"
          ]
        }
      ]
    },
    {
      "cell_type": "markdown",
      "source": [
        "This code defines a function called is_armstrong_number that checks if a given integer is an Armstrong number.\n",
        "\n",
        "It first converts the input number to a string (number_str) to easily access its individual digits.\n",
        "It calculates the number of digits in the number (num_digits).\n",
        "It initializes a variable sum_of_powers to 0.\n",
        "It then iterates through each digit in the number_str.\n",
        "For each digit, it converts it back to an integer (int(digit)) and raises it to the power of the total number of digits (num_digits). This result is added to sum_of_powers.\n",
        "Finally, it compares the calculated sum_of_powers with the original number. If they are equal, the function returns True, indicating it's an Armstrong number; otherwise, it returns False.\n",
        "The example usage shows how to call the function with two different numbers (153 and 123) and prints whether each is an Armstrong number.\n"
      ],
      "metadata": {
        "id": "6RCqAHtWtx9k"
      }
    },
    {
      "cell_type": "markdown",
      "source": [
        "task5:Use both Gemini and Cursor AI to generate code for sorting a list of dictionaries by a\n",
        "specific key (e.g., age)."
      ],
      "metadata": {
        "id": "uW38rVGJt1cA"
      }
    },
    {
      "cell_type": "markdown",
      "metadata": {
        "id": "4c0ab095"
      },
      "source": [
        "Here is the code generated by Gemini. You can copy and paste it into a new code cell and test it."
      ]
    },
    {
      "cell_type": "code",
      "metadata": {
        "colab": {
          "base_uri": "https://localhost:8080/"
        },
        "id": "62125771",
        "outputId": "827361db-13b8-4169-c38b-79c24139b33e"
      },
      "source": [
        "def sort_list_of_dictionaries(list_of_dicts, sort_key):\n",
        "  \"\"\"\n",
        "  Sorts a list of dictionaries by a specific key.\n",
        "\n",
        "  Args:\n",
        "    list_of_dicts: The list of dictionaries to sort.\n",
        "    sort_key: The key to sort the dictionaries by.\n",
        "\n",
        "  Returns:\n",
        "    A new list of dictionaries sorted by the specified key.\n",
        "  \"\"\"\n",
        "  return sorted(list_of_dicts, key=lambda x: x.get(sort_key))\n",
        "\n",
        "# Example usage:\n",
        "data = [\n",
        "    {'name': 'Alice', 'age': 30, 'city': 'New York'},\n",
        "    {'name': 'Bob', 'age': 25, 'city': 'London'},\n",
        "    {'name': 'Charlie', 'age': 35, 'city': 'Paris'},\n",
        "    {'name': 'David', 'age': 25, 'city': 'Tokyo'},\n",
        "]\n",
        "\n",
        "sorted_data = sort_list_of_dictionaries(data, 'age')\n",
        "print(\"Sorted by age:\")\n",
        "print(sorted_data)\n",
        "\n",
        "sorted_data_name = sort_list_of_dictionaries(data, 'name')\n",
        "print(\"\\nSorted by name:\")\n",
        "print(sorted_data_name)"
      ],
      "execution_count": 17,
      "outputs": [
        {
          "output_type": "stream",
          "name": "stdout",
          "text": [
            "Sorted by age:\n",
            "[{'name': 'Bob', 'age': 25, 'city': 'London'}, {'name': 'David', 'age': 25, 'city': 'Tokyo'}, {'name': 'Alice', 'age': 30, 'city': 'New York'}, {'name': 'Charlie', 'age': 35, 'city': 'Paris'}]\n",
            "\n",
            "Sorted by name:\n",
            "[{'name': 'Alice', 'age': 30, 'city': 'New York'}, {'name': 'Bob', 'age': 25, 'city': 'London'}, {'name': 'Charlie', 'age': 35, 'city': 'Paris'}, {'name': 'David', 'age': 25, 'city': 'Tokyo'}]\n"
          ]
        }
      ]
    },
    {
      "cell_type": "markdown",
      "source": [
        "This code defines a function called sort_list_of_dictionaries that takes a list of dictionaries and a sort_key (the key to sort by) as input.\n",
        "\n",
        "It uses the built-in Python sorted() function to sort the list of dictionaries.\n",
        "The key=lambda x: x.get(sort_key) part is crucial. It tells the sorted() function to use the value associated with the sort_key in each dictionary (x) as the basis for sorting. The lambda function is a small anonymous function that takes a dictionary x and returns the value of x at the specified sort_key using x.get(sort_key). Using .get() is a safe way to access the key's value, returning None if the key doesn't exist, which prevents errors.\n",
        "The function returns a new sorted list of dictionaries.\n",
        "The example usage demonstrates sorting the sample data list first by 'age' and then by 'name', printing the results."
      ],
      "metadata": {
        "id": "h-m5GUM7uMiR"
      }
    }
  ]
}